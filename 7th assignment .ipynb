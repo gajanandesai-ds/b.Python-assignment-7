{
 "cells": [
  {
   "cell_type": "raw",
   "id": "be44b35a",
   "metadata": {},
   "source": [
    "1. What is the name of the feature responsible for generating Regex objects?"
   ]
  },
  {
   "cell_type": "raw",
   "id": "afd80eda",
   "metadata": {},
   "source": [
    "ans: The re.compile() function returns regex object"
   ]
  },
  {
   "cell_type": "code",
   "execution_count": null,
   "id": "b12046b4",
   "metadata": {},
   "outputs": [],
   "source": []
  },
  {
   "cell_type": "raw",
   "id": "b44775e3",
   "metadata": {},
   "source": [
    "2. Why do raw strings often appear in Regex objects?"
   ]
  },
  {
   "cell_type": "raw",
   "id": "b5d2451e",
   "metadata": {},
   "source": [
    "ans: Raw strings are used so that backslashes do not have to be escaped"
   ]
  },
  {
   "cell_type": "code",
   "execution_count": null,
   "id": "a877e95f",
   "metadata": {},
   "outputs": [],
   "source": []
  },
  {
   "cell_type": "raw",
   "id": "c9d14fc4",
   "metadata": {},
   "source": [
    "3. What is the return value of the search() method?"
   ]
  },
  {
   "cell_type": "raw",
   "id": "45539713",
   "metadata": {},
   "source": [
    "and: The serach () method returns match object"
   ]
  },
  {
   "cell_type": "code",
   "execution_count": null,
   "id": "b1339e43",
   "metadata": {},
   "outputs": [],
   "source": []
  },
  {
   "cell_type": "raw",
   "id": "0133eae7",
   "metadata": {},
   "source": [
    "4. From a Match item, how do you get the actual strings that match the pattern?"
   ]
  },
  {
   "cell_type": "raw",
   "id": "ad880244",
   "metadata": {},
   "source": [
    "ans:The group() method returns strings of the matched text."
   ]
  },
  {
   "cell_type": "code",
   "execution_count": null,
   "id": "8ef6a27b",
   "metadata": {},
   "outputs": [],
   "source": []
  },
  {
   "cell_type": "raw",
   "id": "f28d0d32",
   "metadata": {},
   "source": [
    "5. In the regex which created from the r'(\\d\\d\\d)-(\\d\\d\\d-\\d\\d\\d\\d)', what does group zero cover?\n",
    "Group 2? Group 1?"
   ]
  },
  {
   "cell_type": "raw",
   "id": "d26acd56",
   "metadata": {},
   "source": [
    "ans:Group 0 is the entire match, group 1 covers the first set of parentheses, and group 2 covers the second set of parentheses."
   ]
  },
  {
   "cell_type": "code",
   "execution_count": null,
   "id": "0d624b94",
   "metadata": {},
   "outputs": [],
   "source": []
  },
  {
   "cell_type": "raw",
   "id": "970b4934",
   "metadata": {},
   "source": [
    "6. In standard expression syntax, parentheses and intervals have distinct meanings. How can you tell\n",
    "a regex that you want it to fit real parentheses and periods?"
   ]
  },
  {
   "cell_type": "raw",
   "id": "1803b1aa",
   "metadata": {},
   "source": [
    "ans: Periods and parentheses can be escaped with a backslash: \\.,\\(,and\\)."
   ]
  },
  {
   "cell_type": "code",
   "execution_count": null,
   "id": "3cff387c",
   "metadata": {},
   "outputs": [],
   "source": []
  },
  {
   "cell_type": "raw",
   "id": "6432bec5",
   "metadata": {},
   "source": [
    "7. The findall() method returns a string list or a list of string tuples. What causes it to return one of\n",
    "the two options?"
   ]
  },
  {
   "cell_type": "raw",
   "id": "06bcc75f",
   "metadata": {},
   "source": [
    "ans: if the regex has no groups, a list of strings is returned. if the regex has groups, a list of tuples of strings is returned. "
   ]
  },
  {
   "cell_type": "code",
   "execution_count": null,
   "id": "424b1acb",
   "metadata": {},
   "outputs": [],
   "source": []
  },
  {
   "cell_type": "raw",
   "id": "80eecedd",
   "metadata": {},
   "source": [
    "8. In standard expressions, what does the | character mean?"
   ]
  },
  {
   "cell_type": "raw",
   "id": "5d5be293",
   "metadata": {},
   "source": [
    "ans: The | charcter signifies matching \"either,or\" between two groups."
   ]
  },
  {
   "cell_type": "code",
   "execution_count": null,
   "id": "6e3e8e3d",
   "metadata": {},
   "outputs": [],
   "source": []
  },
  {
   "cell_type": "raw",
   "id": "d438d660",
   "metadata": {},
   "source": [
    "9. In regular expressions, what does the character stand for?"
   ]
  },
  {
   "cell_type": "raw",
   "id": "24561714",
   "metadata": {},
   "source": [
    "and: which charceter? not mentioned."
   ]
  },
  {
   "cell_type": "code",
   "execution_count": null,
   "id": "3528ebb7",
   "metadata": {},
   "outputs": [],
   "source": []
  },
  {
   "cell_type": "raw",
   "id": "0fb4254d",
   "metadata": {},
   "source": [
    "10.In regular expressions, what is the difference between the + and * characters?"
   ]
  },
  {
   "cell_type": "raw",
   "id": "0fd136df",
   "metadata": {},
   "source": [
    "ans:The + matches one or more. The * matches zero or more."
   ]
  },
  {
   "cell_type": "code",
   "execution_count": null,
   "id": "2049fe91",
   "metadata": {},
   "outputs": [],
   "source": []
  },
  {
   "cell_type": "raw",
   "id": "c598ae69",
   "metadata": {},
   "source": [
    "11. What is the difference between {4} and {4,5} in regular expression?"
   ]
  },
  {
   "cell_type": "raw",
   "id": "9dd90787",
   "metadata": {},
   "source": [
    "ans: The {4} matches exactly three instance of the preceding group. the {4,5} matches between four and five instance."
   ]
  },
  {
   "cell_type": "code",
   "execution_count": null,
   "id": "69d135a1",
   "metadata": {},
   "outputs": [],
   "source": []
  },
  {
   "cell_type": "raw",
   "id": "6dc38058",
   "metadata": {},
   "source": [
    "12. What do you mean by the \\d, \\w, and \\s shorthand character classes signify in regular\n",
    "expressions?"
   ]
  },
  {
   "cell_type": "raw",
   "id": "cdbafe55",
   "metadata": {},
   "source": [
    "ans:The \\d,\\w, and \\s shorthand charcter clasees match a single digit,word, or space charcter,respectiviely."
   ]
  },
  {
   "cell_type": "code",
   "execution_count": null,
   "id": "26fa96b7",
   "metadata": {},
   "outputs": [],
   "source": []
  },
  {
   "cell_type": "raw",
   "id": "45685d02",
   "metadata": {},
   "source": [
    "13. What do means by \\D, \\W, and \\S shorthand character classes signify in regular expressions?"
   ]
  },
  {
   "cell_type": "raw",
   "id": "b34555c8",
   "metadata": {},
   "source": [
    "ans:The \\D,\\W, and \\S shorthand charcter classes match a single charcter that is not a digit,word, or space charcter, respectively."
   ]
  },
  {
   "cell_type": "code",
   "execution_count": null,
   "id": "af0bd962",
   "metadata": {},
   "outputs": [],
   "source": []
  },
  {
   "cell_type": "raw",
   "id": "0b2db393",
   "metadata": {},
   "source": [
    "14. What is the difference between .*? and .*?"
   ]
  },
  {
   "cell_type": "raw",
   "id": "9196438c",
   "metadata": {},
   "source": [
    "ans: The.* performs a greedy match, and the .*.? performs a nongreedy match."
   ]
  },
  {
   "cell_type": "code",
   "execution_count": null,
   "id": "32e0dbce",
   "metadata": {},
   "outputs": [],
   "source": []
  },
  {
   "cell_type": "raw",
   "id": "d7d1b292",
   "metadata": {},
   "source": [
    "15. What is the syntax for matching both numbers and lowercase letters with a character class?"
   ]
  },
  {
   "cell_type": "raw",
   "id": "e135001e",
   "metadata": {},
   "source": [
    "ans: Either [0-9a-z] or [a-z 0-9]"
   ]
  },
  {
   "cell_type": "code",
   "execution_count": null,
   "id": "c858b1f7",
   "metadata": {},
   "outputs": [],
   "source": []
  },
  {
   "cell_type": "raw",
   "id": "189163a7",
   "metadata": {},
   "source": [
    "16. What is the procedure for making a normal expression in regax case insensitive?"
   ]
  },
  {
   "cell_type": "raw",
   "id": "d0faf4ad",
   "metadata": {},
   "source": [
    "ans:Passing re.l or re. IGNORECASE as the second arguments to re.compile() will make the matching case insentive."
   ]
  },
  {
   "cell_type": "code",
   "execution_count": null,
   "id": "c3d7d1c1",
   "metadata": {},
   "outputs": [],
   "source": []
  },
  {
   "cell_type": "raw",
   "id": "e3c06504",
   "metadata": {},
   "source": [
    "17. What does the . character normally match? What does it match if re.DOTALL is passed as 2nd\n",
    "argument in re.compile()?"
   ]
  },
  {
   "cell_type": "raw",
   "id": "158a4086",
   "metadata": {},
   "source": [
    "ans: The. charcter normally matches any charcter except the newline charcter. if re. DOTALL is paseed as the second arguments to re.compile(),then the dot will also match newline charcters."
   ]
  },
  {
   "cell_type": "code",
   "execution_count": null,
   "id": "7fb2e3a2",
   "metadata": {},
   "outputs": [],
   "source": []
  },
  {
   "cell_type": "raw",
   "id": "b52fc1ef",
   "metadata": {},
   "source": [
    "18. If numReg = re.compile(r'\\d+), what will numRegex.sub('X',11 drummers, 10 pipers, five rings, 4\n",
    "hen') return?"
   ]
  },
  {
   "cell_type": "raw",
   "id": "f409f46b",
   "metadata": {},
   "source": [
    "ans:'X drummers, X pipers, five rings, X hen's"
   ]
  },
  {
   "cell_type": "code",
   "execution_count": null,
   "id": "20c46f7b",
   "metadata": {},
   "outputs": [],
   "source": []
  },
  {
   "cell_type": "raw",
   "id": "7172b31c",
   "metadata": {},
   "source": [
    "19. What does passing re.VERBOSE as the 2nd argument to re.compile() allow to do?"
   ]
  },
  {
   "cell_type": "raw",
   "id": "5de40d60",
   "metadata": {},
   "source": [
    "ans: The re.VERBOSE argument allows you to add whitespace and comments to the string passed to re.compile()"
   ]
  },
  {
   "cell_type": "code",
   "execution_count": null,
   "id": "d68e41d3",
   "metadata": {},
   "outputs": [],
   "source": []
  },
  {
   "cell_type": "raw",
   "id": "337d5a25",
   "metadata": {},
   "source": [
    "20. How would you write a regex that match a number with comma for every three digits? It must\n",
    "match the given following:\n",
    "'42'\n",
    "'1,234'\n",
    "'6,368,745'\n",
    "but not the following:\n",
    "'12,34,567' (which has only two digits between the commas)\n",
    "'1234'(which lacks commas)"
   ]
  },
  {
   "cell_type": "raw",
   "id": "e1dbe262",
   "metadata": {},
   "source": [
    "ans: e.compiler (r'^\\d{1,3}(,{3})*$') will create this regix, but other regix strings can produce a similar regular expression."
   ]
  },
  {
   "cell_type": "code",
   "execution_count": null,
   "id": "39763773",
   "metadata": {},
   "outputs": [],
   "source": []
  },
  {
   "cell_type": "raw",
   "id": "cf04cd00",
   "metadata": {},
   "source": [
    "21. How would you write a regex that matches the full name of someone whose last name is\n",
    "Watanabe? You can assume that the first name that comes before it will always be one word that\n",
    "begins with a capital letter. The regex must match the following:\n",
    "'Haruto Watanabe'\n",
    "'Alice Watanabe'\n",
    "'RoboCop Watanabe'\n",
    "but not the following:\n",
    "'haruto Watanabe'(where the first name is not capitalized)\n",
    "'Mr. Watanabe' (where the preceding word has a nonletter character)\n",
    "'Watanabe&' (which has no first name)\n",
    "'Haruto watanabe' (where Watanabe is not capitalized)"
   ]
  },
  {
   "cell_type": "raw",
   "id": "8df876e7",
   "metadata": {},
   "source": [
    "ans: re.compile(r'[A-Z][a-z]*\\sWatanabe')"
   ]
  },
  {
   "cell_type": "code",
   "execution_count": null,
   "id": "1e273678",
   "metadata": {},
   "outputs": [],
   "source": []
  },
  {
   "cell_type": "raw",
   "id": "2ae383c3",
   "metadata": {},
   "source": [
    "22. How would you write a regex that matches a sentence where the first word is either Alice, Bob,\n",
    "or Carol; the second word is either eats, pets, or throws; the third word is apples, cats, or baseballs;\n",
    "and the sentence ends with a period? This regex should be case-insensitive. It must match the\n",
    "following:\n",
    "'Alice eats apples.'\n",
    "'Bob pets cats.'\n",
    "'Carol throws baseballs.'\n",
    "'Alice throws Apples.'\n",
    "'BOB EATS CATS.'\n",
    "but not the following:\n",
    "'RoboCop eats apples.'\n",
    "'ALICE THROWS FOOTBALLS.'\n",
    "'Carol eats 7 cats.'"
   ]
  },
  {
   "cell_type": "raw",
   "id": "946ee5d5",
   "metadata": {},
   "source": [
    "ans: re.complier(r'(Alice|Bob|Caro|)\\s(eats|pets|throws)\\\n",
    "s(apples|cats|baseballs)\\.,re.IGONORANCE)"
   ]
  },
  {
   "cell_type": "code",
   "execution_count": null,
   "id": "4585c426",
   "metadata": {},
   "outputs": [],
   "source": []
  }
 ],
 "metadata": {
  "kernelspec": {
   "display_name": "Python 3",
   "language": "python",
   "name": "python3"
  },
  "language_info": {
   "codemirror_mode": {
    "name": "ipython",
    "version": 3
   },
   "file_extension": ".py",
   "mimetype": "text/x-python",
   "name": "python",
   "nbconvert_exporter": "python",
   "pygments_lexer": "ipython3",
   "version": "3.8.8"
  }
 },
 "nbformat": 4,
 "nbformat_minor": 5
}
